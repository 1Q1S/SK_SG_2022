{
 "cells": [
  {
   "cell_type": "code",
   "execution_count": 2,
   "metadata": {},
   "outputs": [
    {
     "name": "stdout",
     "output_type": "stream",
     "text": [
      "0    1\n",
      "1    2\n",
      "2    3\n",
      "3    4\n",
      "4    8\n",
      "dtype: int64\n"
     ]
    }
   ],
   "source": [
    "import pandas as pd\n",
    "\n",
    "#정수형 series\n",
    "\n",
    "s=pd.Series([1,2,3,4,8])\n",
    "print(s)"
   ]
  },
  {
   "cell_type": "code",
   "execution_count": 3,
   "metadata": {},
   "outputs": [
    {
     "name": "stdout",
     "output_type": "stream",
     "text": [
      "0    1.3\n",
      "1    2.5\n",
      "2    3.6\n",
      "3    2.3\n",
      "4    1.2\n",
      "dtype: float64\n"
     ]
    }
   ],
   "source": [
    "# 실수형 Series\n",
    "\n",
    "s=pd.Series([1.3,2.5,3.6,2.3,1.2])\n",
    "print(s)"
   ]
  },
  {
   "cell_type": "code",
   "execution_count": 4,
   "metadata": {},
   "outputs": [
    {
     "name": "stdout",
     "output_type": "stream",
     "text": [
      "0    1.0\n",
      "1    2.5\n",
      "2    3.0\n",
      "3    8.9\n",
      "4    7.0\n",
      "dtype: float64\n"
     ]
    }
   ],
   "source": [
    "#실수형 Series\n",
    "s=pd.Series([1,2.5,3,8.9,7])\n",
    "\n",
    "print(s)\n"
   ]
  },
  {
   "cell_type": "code",
   "execution_count": 6,
   "metadata": {},
   "outputs": [
    {
     "name": "stdout",
     "output_type": "stream",
     "text": [
      "a    1.0\n",
      "b    2.5\n",
      "c    3.0\n",
      "d    8.9\n",
      "e    7.0\n",
      "dtype: float64\n"
     ]
    }
   ],
   "source": [
    "# 인덱스 지정\n",
    "s=pd.Series([1,2.5,3,8.9,7], index=['a','b','c','d','e'])\n",
    "print(s)\n"
   ]
  },
  {
   "cell_type": "code",
   "execution_count": 12,
   "metadata": {},
   "outputs": [
    {
     "name": "stdout",
     "output_type": "stream",
     "text": [
      "[1 2 3]\n",
      "[0. 0. 0. 0. 0.]\n",
      "[[1. 1. 1.]\n",
      " [1. 1. 1.]]\n"
     ]
    }
   ],
   "source": [
    "import numpy as np\n",
    "\n",
    "a=np.array([1,2,3])\n",
    "print(a)\n",
    "\n",
    "b=np.zeros(5)\n",
    "print(b)\n",
    "\n",
    "c=np.ones((2,3)) #차원으로 입력시 괄호안에 차원 demension을 다시 또 다른 괄호안해 묶어서 기입\n",
    "print(c)"
   ]
  },
  {
   "cell_type": "code",
   "execution_count": 13,
   "metadata": {},
   "outputs": [
    {
     "name": "stdout",
     "output_type": "stream",
     "text": [
      "[5 5 5 5]\n",
      "[4 6 6 4]\n",
      "2.5\n"
     ]
    }
   ],
   "source": [
    "a = np.array([1,2,3,4])\n",
    "b = np.array([4,3,2,1])\n",
    "# 요소별 합\n",
    "print(np.add(a, b))\n",
    "# 요소별 곱\n",
    "print(np.multiply(a, b))\n",
    "# 어레이값의 평균\n",
    "print(np.mean(b))"
   ]
  },
  {
   "cell_type": "code",
   "execution_count": 14,
   "metadata": {},
   "outputs": [
    {
     "name": "stdout",
     "output_type": "stream",
     "text": [
      "[[0.95178287 0.44321723 0.36356272 0.63254805 0.97217959]\n",
      " [0.61680644 0.81655162 0.55350572 0.68657053 0.33555429]]\n",
      "[[ 0.15708781 -1.09101702 -0.86360354 -0.747394  ]\n",
      " [-1.84509013 -1.70874797  2.21340997  2.43394806]]\n"
     ]
    }
   ],
   "source": [
    "# 0과 1사이에서 균일한 분포를 갖는 숫자 샘플링\n",
    "a = np.random.rand(2,5)\n",
    "print(a)\n",
    "# 표준정규분포를 갖는 숫자들 샘플링\n",
    "b = np.random.randn(2,4)\n",
    "print(b)"
   ]
  },
  {
   "cell_type": "code",
   "execution_count": 15,
   "metadata": {},
   "outputs": [
    {
     "name": "stdout",
     "output_type": "stream",
     "text": [
      "3.141592653589793\n",
      "2.718281828459045\n"
     ]
    }
   ],
   "source": [
    "# 파이\n",
    "a = np.pi\n",
    "print(a)\n",
    "# 오일러 상수\n",
    "b = np.e\n",
    "print(b)"
   ]
  },
  {
   "cell_type": "code",
   "execution_count": 16,
   "metadata": {},
   "outputs": [
    {
     "name": "stdout",
     "output_type": "stream",
     "text": [
      "<class 'numpy.ndarray'>\n",
      "[1.2 5.  6.  8. ]\n",
      "float64\n"
     ]
    }
   ],
   "source": [
    "a = np.array([1.2,5,6,8])\n",
    "print(type(a))\n",
    "print(a)\n",
    "# 어레이 요소의 자료형을 알고싶을때\n",
    "print(a.dtype)"
   ]
  },
  {
   "cell_type": "code",
   "execution_count": 17,
   "metadata": {},
   "outputs": [
    {
     "name": "stdout",
     "output_type": "stream",
     "text": [
      "[[1 2 3 4]\n",
      " [1 2 3 4]]\n"
     ]
    }
   ],
   "source": [
    "a = np.array([(1,2,3,4),(1,2,3,4)])\n",
    "print(a)"
   ]
  },
  {
   "cell_type": "code",
   "execution_count": 18,
   "metadata": {},
   "outputs": [
    {
     "name": "stdout",
     "output_type": "stream",
     "text": [
      "[[1.+0.j 2.+0.j 3.+0.j]\n",
      " [4.+0.j 5.+0.j 6.+0.j]]\n"
     ]
    }
   ],
   "source": [
    "# 타입 지정\n",
    "a = np.array(([1,2,3],[4,5,6]),dtype = complex)\n",
    "print(a)"
   ]
  },
  {
   "cell_type": "code",
   "execution_count": 19,
   "metadata": {},
   "outputs": [
    {
     "name": "stdout",
     "output_type": "stream",
     "text": [
      "[0. 0. 0. 0. 0. 0. 0. 0. 0. 0.]\n",
      "[[[1 1 1 1]\n",
      "  [1 1 1 1]\n",
      "  [1 1 1 1]]\n",
      "\n",
      " [[1 1 1 1]\n",
      "  [1 1 1 1]\n",
      "  [1 1 1 1]]]\n"
     ]
    }
   ],
   "source": [
    "print(np.zeros(10))\n",
    "b = np.ones((2,3,4), dtype = np.int16)\n",
    "print(b)"
   ]
  },
  {
   "cell_type": "code",
   "execution_count": 20,
   "metadata": {},
   "outputs": [
    {
     "name": "stdout",
     "output_type": "stream",
     "text": [
      "   과목번호  과목명\n",
      "0     1   수학\n",
      "1     2   과학\n",
      "2     3  파이썬\n"
     ]
    }
   ],
   "source": [
    "no = [1,2,3]\n",
    "subjname = []\n",
    "subjname.append('수학')\n",
    "subjname.append('과학')\n",
    "subjname.append('파이썬')\n",
    "subject = pd.DataFrame()\n",
    "subject['과목번호'] = no\n",
    "subject['과목명'] = subjname\n",
    "print(subject)"
   ]
  },
  {
   "cell_type": "code",
   "execution_count": 26,
   "metadata": {},
   "outputs": [],
   "source": [
    "subject.to_excel(\"C:\\pythonproject\\subject.xlsx\", index=False) #index=Fasle로 하면 불러온 data에 자동으로 추가된 Index가 없이 저장해준다.\n"
   ]
  },
  {
   "cell_type": "code",
   "execution_count": 29,
   "metadata": {},
   "outputs": [],
   "source": [
    "subject.to_csv(\"C:\\pythonproject\\subject.csv\", encoding='utf-8-sig',index=True)"
   ]
  },
  {
   "cell_type": "code",
   "execution_count": 30,
   "metadata": {},
   "outputs": [
    {
     "name": "stdout",
     "output_type": "stream",
     "text": [
      "    이름  age      성별\n",
      "0  홍길동   20    male\n",
      "1  홍길순   50  female\n",
      "2  임꺽정   32    male\n",
      "0      male\n",
      "1    female\n",
      "2      male\n",
      "Name: 성별, dtype: object\n",
      "34.0\n",
      "50\n",
      "20\n"
     ]
    }
   ],
   "source": [
    "# 데이터 프레임은 파이썬의 리스트와 딕셔너리의 조합이다.\n",
    "df = pd.DataFrame({\"이름\":[\"홍길동\", \"홍길순\", \"임꺽정\"],\"age\":[20,50,32], \"성별\":[\"male\", \"female\", \"male\"]})\n",
    "print(df)\n",
    "# 데이터 프레임에서 성별컬럼만 출력\n",
    "print(df[\"성별\"])\n",
    "# 데이터프레임에 고향컬럼 추가\n",
    "home = pd.Series([\"서울\", \"부산\", \"대전\"], name = \"고향\")\n",
    "df[\"고향\"] = home\n",
    "# 집계함수\n",
    "# 평균, 최대값, 최솟값\n",
    "print(df[\"age\"].mean())\n",
    "print(df[\"age\"].max())\n",
    "print(df[\"age\"].min())"
   ]
  },
  {
   "cell_type": "code",
   "execution_count": 36,
   "metadata": {},
   "outputs": [
    {
     "name": "stdout",
     "output_type": "stream",
     "text": [
      "             age\n",
      "count   3.000000\n",
      "mean   34.000000\n",
      "std    15.099669\n",
      "min    20.000000\n",
      "25%    26.000000\n",
      "50%    32.000000\n",
      "75%    41.000000\n",
      "max    50.000000\n",
      "    이름  age      성별\n",
      "0  홍길동   20    male\n",
      "1  홍길순   50  female\n",
      "    이름  age      성별\n",
      "1  홍길순   50  female\n",
      "2  임꺽정   32    male\n"
     ]
    }
   ],
   "source": [
    "df = pd.DataFrame({\"이름\":[\"홍길동\", \"홍길순\", \"임꺽정\"],\"age\":[20,50,32], \"성별\":[\"male\", \"female\", \"male\"]})\n",
    "# 데이터 프레임의 기본 통계 내용을 출력\n",
    "print(df.describe())\n",
    "# head는 위에서부터 데이터를 끊어온다\n",
    "print(df.head(2))\n",
    "# tail은 밑에서부터 데이터를 끊어온다.\n",
    "print(df.tail(2))\n"
   ]
  },
  {
   "cell_type": "code",
   "execution_count": 75,
   "metadata": {},
   "outputs": [
    {
     "name": "stdout",
     "output_type": "stream",
     "text": [
      "   Unnamed: 0  order_no user_id user_pass name address product    price  brand\n",
      "0           0         1   user1     pass1  손흥민      런던     운동화   100000    나이키\n",
      "1           1         2   user2     pass2   설현      서울      코트   150000    버버리\n",
      "2           2         3   user3     pass3   원빈      대전     반바지    30000   유니클로\n",
      "3           3         4   user4     pass4  송혜교      대구     스커트    55000     자라\n",
      "4           4         5   user5     pass5  소지섭      부산      코트  1100000   알레그리\n",
      "5           5         6   user6     pass6  김지원      울산     티셔츠     9900   지오다노\n",
      "6           6         7   user6     pass6  김지원      울산     운동화   220000     텐디\n",
      "7           7         8   user1     pass1  손흥민      런던     스커트    30000  크로커다일\n",
      "8           8         9   user1     pass1  손흥민      런던      코트   580000    띠어리\n",
      "  user_id name  count\n",
      "0   user1  손흥민      3\n",
      "5   user6  김지원      2\n",
      "1   user2   설현      1\n",
      "2   user3   원빈      1\n",
      "3   user4  송혜교      1\n",
      "4   user5  소지섭      1\n",
      "229900\n"
     ]
    }
   ],
   "source": [
    "df = pd.read_excel(\"order.xlsx\")\n",
    "print(df)\n",
    "# 1. 손흥민의 주문 개수는?\n",
    "#is_son = df[\"name\"] == \"손흥민\"\n",
    "#print(is_son)\n",
    "#print(df[is_son][\"order_no\"].count())\n",
    "#print(df[df[\"name\"] == \"손흥민\"]['order_no'].count())\n",
    "\n",
    "# 2. 손흥민이 산 상품은?\n",
    "#print(df[df['name']=='손흥민']['product'])\n",
    "\n",
    "# 3. 스커트를 산 사람은?\n",
    "#print(df[df['product']=='스커트']['name'])\n",
    "\n",
    "# 4. 가장 많이 주문한 사람의 아이디와 이름, 주문횟수는?\n",
    "#newdf = df.groupby([\"user_id\",\"name\"])[\"order_no\"].get_group(('user1','손흥민'))\n",
    "#newdf = df.groupby([\"user_id\",\"name\"])[\"order_no\"].count().reset_index(name = \"count\")\n",
    "newdf = df.groupby([\"user_id\",\"name\"])[\"order_no\"].count().reset_index(name = \"count\")\n",
    "\n",
    "\n",
    "# 기본 정렬 방식은 오름차순, 내림차순으로 정렬하고 싶을 경우 ascending = False\n",
    "newdf = newdf.sort_values(\"count\", ascending = False)\n",
    "#newdf=newdf.sort_values('count',ascending=False)\n",
    "print(newdf)\n",
    "# 5. 김지원이 사용한 총 금액은?\n",
    "is_kim = df[\"name\"] == \"김지원\"\n",
    "print(df[is_kim][\"price\"].sum())"
   ]
  },
  {
   "cell_type": "code",
   "execution_count": null,
   "metadata": {},
   "outputs": [],
   "source": []
  }
 ],
 "metadata": {
  "interpreter": {
   "hash": "0ef2662b2d123e7c06080618e4203543cfdddda4267359755803fd8e38324e19"
  },
  "kernelspec": {
   "display_name": "Python 3.10.2 64-bit",
   "language": "python",
   "name": "python3"
  },
  "language_info": {
   "codemirror_mode": {
    "name": "ipython",
    "version": 3
   },
   "file_extension": ".py",
   "mimetype": "text/x-python",
   "name": "python",
   "nbconvert_exporter": "python",
   "pygments_lexer": "ipython3",
   "version": "3.10.2"
  },
  "orig_nbformat": 4
 },
 "nbformat": 4,
 "nbformat_minor": 2
}
