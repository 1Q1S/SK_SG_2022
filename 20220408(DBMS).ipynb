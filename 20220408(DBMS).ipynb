{
 "cells": [
  {
   "cell_type": "code",
   "execution_count": 1,
   "metadata": {},
   "outputs": [
    {
     "data": {
      "text/plain": [
       "'2.6.0'"
      ]
     },
     "execution_count": 1,
     "metadata": {},
     "output_type": "execute_result"
    }
   ],
   "source": [
    "import sqlite3\n",
    "\n",
    "sqlite3.version"
   ]
  },
  {
   "cell_type": "code",
   "execution_count": 4,
   "metadata": {},
   "outputs": [
    {
     "name": "stdout",
     "output_type": "stream",
     "text": [
      "<class 'sqlite3.Connection'>\n"
     ]
    }
   ],
   "source": [
    "# connect =  DB를 생성하는 함수\n",
    "import sqlite3\n",
    "con = sqlite3.connect('C:\\pythonproject\\DB\\pydbtest.db')\n",
    "\n",
    "print(type(con))"
   ]
  },
  {
   "cell_type": "code",
   "execution_count": 5,
   "metadata": {},
   "outputs": [
    {
     "data": {
      "text/plain": [
       "<sqlite3.Cursor at 0x1d0ab2a27c0>"
      ]
     },
     "execution_count": 5,
     "metadata": {},
     "output_type": "execute_result"
    }
   ],
   "source": [
    "# cursor = sql 구문을 호출하기 위해 사용하는 함수\n",
    "\n",
    "cursor = con.cursor()\n",
    "\n",
    "sql='''\n",
    "CREATE TABLE std (\n",
    "    name TEXT,\n",
    "    age INT,\n",
    "    grade TEXT\n",
    ");\n",
    "'''\n",
    "\n",
    "cursor.execute(sql)\n",
    "\n",
    "\n"
   ]
  },
  {
   "cell_type": "code",
   "execution_count": null,
   "metadata": {},
   "outputs": [],
   "source": [
    "# DDL = 데이터 정의어 : CREATE, ALTER, DROP\n",
    "# DML = 데이터 조작어 : SELECT, INSERT, UPDATE, DELETE\n",
    "# DCL = 데이터 제어어 : COMMIT, ROLLBACK. GRANT, REVOKE"
   ]
  },
  {
   "cell_type": "code",
   "execution_count": 7,
   "metadata": {},
   "outputs": [
    {
     "data": {
      "text/plain": [
       "<sqlite3.Cursor at 0x1d0ab2a27c0>"
      ]
     },
     "execution_count": 7,
     "metadata": {},
     "output_type": "execute_result"
    }
   ],
   "source": [
    "# INSERT INTO TABLENAME VALUES (a,a,a)\n",
    "# INSERT INTO TABLENAME SET (A,B) VALUES (a,b)\n",
    "\n",
    "sql2= '''\n",
    "INSERT INTO std \n",
    "VALUES ('sungyulee',30,'A');\n",
    "'''\n",
    "\n",
    "cursor.execute(sql2)\n",
    "\n"
   ]
  },
  {
   "cell_type": "code",
   "execution_count": null,
   "metadata": {},
   "outputs": [],
   "source": [
    "sql3= '''\n",
    "COMMIT;\n",
    "'''\n",
    "\n",
    "cursor.execute(sql3)\n",
    "\n",
    "# 또는 con.COMMIT() 으로 COMMIT 가능\n"
   ]
  },
  {
   "cell_type": "code",
   "execution_count": 11,
   "metadata": {},
   "outputs": [
    {
     "data": {
      "text/plain": [
       "<sqlite3.Cursor at 0x1d0ab2a27c0>"
      ]
     },
     "execution_count": 11,
     "metadata": {},
     "output_type": "execute_result"
    }
   ],
   "source": [
    "cursor.execute( \"INSERT INTO std VALUES ('sungyukim',31,'B');\")\n",
    "cursor.execute( \"INSERT INTO std VALUES ('jungyulee',32,'C');\")\n",
    "cursor.execute( \"INSERT INTO std VALUES ('jinyounglee',33,'D');\")"
   ]
  },
  {
   "cell_type": "code",
   "execution_count": 12,
   "metadata": {},
   "outputs": [],
   "source": [
    "con.commit()"
   ]
  },
  {
   "cell_type": "code",
   "execution_count": 13,
   "metadata": {},
   "outputs": [],
   "source": [
    "cursor.execute( \"DELETE FROM std WHERE name='jinyounglee'\")\n",
    "con.commit()"
   ]
  },
  {
   "cell_type": "code",
   "execution_count": 14,
   "metadata": {},
   "outputs": [],
   "source": [
    "con.close() #db와 연결해제"
   ]
  },
  {
   "cell_type": "code",
   "execution_count": 17,
   "metadata": {},
   "outputs": [
    {
     "name": "stdout",
     "output_type": "stream",
     "text": [
      "[('sungyulee', 30, 'A'), ('sungyukim', 31, 'B'), ('jungyulee', 32, 'C')]\n"
     ]
    }
   ],
   "source": [
    "import sqlite3\n",
    "\n",
    "con = sqlite3.connect('C:\\pythonproject\\DB\\pydbtest.db') #database를 연결한다.\n",
    "cursor = con.cursor() #cursor를 만든다\n",
    "\n",
    "sql ='''\n",
    "SELECT * FROM std;\n",
    "'''\n",
    "\n",
    "cursor.execute(sql) # sql문을 실행한다.\n",
    "\n",
    "b = cursor.fetchall() # 실행된 sql 문의 결과값을 받아온다.\n",
    "\n",
    "print(b)"
   ]
  },
  {
   "cell_type": "code",
   "execution_count": 18,
   "metadata": {},
   "outputs": [
    {
     "name": "stdout",
     "output_type": "stream",
     "text": [
      "('sungyukim', 31, 'B')\n"
     ]
    }
   ],
   "source": [
    "sql ='''\n",
    "SELECT * FROM std;\n",
    "'''\n",
    "\n",
    "cursor.execute(sql) # sql문을 실행한다.\n",
    "\n",
    "b = cursor.fetchall() # 실행된 sql 문의 결과값을 받아온다.\n",
    "\n",
    "print(b[1])"
   ]
  },
  {
   "cell_type": "code",
   "execution_count": 20,
   "metadata": {},
   "outputs": [
    {
     "name": "stdout",
     "output_type": "stream",
     "text": [
      "('sungyulee', 30, 'A')\n",
      "('sungyukim', 31, 'B')\n",
      "('jungyulee', 32, 'C')\n"
     ]
    }
   ],
   "source": [
    "import sqlite3\n",
    "\n",
    "con = sqlite3.connect('C:\\pythonproject\\DB\\pydbtest.db') #database를 연결한다.\n",
    "cursor = con.cursor() #cursor를 만든다\n",
    "\n",
    "sql ='''\n",
    "SELECT * FROM std;\n",
    "'''\n",
    "\n",
    "cursor.execute(sql) # sql문을 실행한다.\n",
    "\n",
    "b = cursor.fetchall() # 실행된 sql 문의 결과값을 받아온다.\n",
    "\n",
    "for i in b : # 가져온 결과를 하나의 row씩 출력한다.\n",
    "    print(i)"
   ]
  },
  {
   "cell_type": "code",
   "execution_count": null,
   "metadata": {},
   "outputs": [],
   "source": []
  }
 ],
 "metadata": {
  "interpreter": {
   "hash": "0ef2662b2d123e7c06080618e4203543cfdddda4267359755803fd8e38324e19"
  },
  "kernelspec": {
   "display_name": "Python 3.10.2 64-bit",
   "language": "python",
   "name": "python3"
  },
  "language_info": {
   "codemirror_mode": {
    "name": "ipython",
    "version": 3
   },
   "file_extension": ".py",
   "mimetype": "text/x-python",
   "name": "python",
   "nbconvert_exporter": "python",
   "pygments_lexer": "ipython3",
   "version": "3.10.2"
  },
  "orig_nbformat": 4
 },
 "nbformat": 4,
 "nbformat_minor": 2
}
