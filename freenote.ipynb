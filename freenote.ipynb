{
 "cells": [
  {
   "cell_type": "code",
   "execution_count": 18,
   "metadata": {},
   "outputs": [
    {
     "ename": "ValueError",
     "evalue": "not enough values to unpack (expected 2, got 1)",
     "output_type": "error",
     "traceback": [
      "\u001b[1;31m---------------------------------------------------------------------------\u001b[0m",
      "\u001b[1;31mValueError\u001b[0m                                Traceback (most recent call last)",
      "\u001b[1;32mc:\\pythonproject\\freenote.ipynb Cell 1'\u001b[0m in \u001b[0;36m<cell line: 26>\u001b[1;34m()\u001b[0m\n\u001b[0;32m     <a href='vscode-notebook-cell:/c%3A/pythonproject/freenote.ipynb#ch0000000?line=23'>24</a>\u001b[0m num \u001b[39m=\u001b[39m \u001b[39mint\u001b[39m(\u001b[39minput\u001b[39m())\n\u001b[0;32m     <a href='vscode-notebook-cell:/c%3A/pythonproject/freenote.ipynb#ch0000000?line=25'>26</a>\u001b[0m \u001b[39mfor\u001b[39;00m i \u001b[39min\u001b[39;00m \u001b[39mrange\u001b[39m(\u001b[39m0\u001b[39m,num):\n\u001b[1;32m---> <a href='vscode-notebook-cell:/c%3A/pythonproject/freenote.ipynb#ch0000000?line=26'>27</a>\u001b[0m     a,b\u001b[39m=\u001b[39m\u001b[39mmap\u001b[39m(\u001b[39mint\u001b[39m,\u001b[39minput\u001b[39m()\u001b[39m.\u001b[39msplit())\n\u001b[0;32m     <a href='vscode-notebook-cell:/c%3A/pythonproject/freenote.ipynb#ch0000000?line=27'>28</a>\u001b[0m     \u001b[39mprint\u001b[39m(a\u001b[39m+\u001b[39mb)\n",
      "\u001b[1;31mValueError\u001b[0m: not enough values to unpack (expected 2, got 1)"
     ]
    }
   ],
   "source": [
    "# 두 정수 A와 B를 입력받은 다음, A+B를 출력하는 프로그램을 작성하시오.\n",
    "\n",
    "# 입력\n",
    "# 첫째 줄에 테스트 케이스의 개수 T가 주어진다.\n",
    "\n",
    "# 각 테스트 케이스는 한 줄로 이루어져 있으며, 각 줄에 A와 B가 주어진다. (0 < A, B < 10)\n",
    "\n",
    "# 출력\n",
    "# 각 테스트 케이스마다 A+B를 출력한다.\n",
    "\n",
    "# 예제 입력 1 \n",
    "# 5\n",
    "# 1 1\n",
    "# 2 3\n",
    "# 3 4\n",
    "# 9 8\n",
    "# 5 2\n",
    "# 예제 출력 1 \n",
    "# 2\n",
    "# 5\n",
    "# 7\n",
    "# 17\n",
    "# 7\n",
    "num = int(input())\n",
    "\n",
    "for i in range(0,num):\n",
    "    a,b=map(int,input().split())\n",
    "    print(a+b)"
   ]
  },
  {
   "cell_type": "code",
   "execution_count": null,
   "metadata": {},
   "outputs": [],
   "source": [
    "# 본격적으로 for문 문제를 풀기 전에 주의해야 할 점이 있다. 입출력 방식이 느리면 여러 줄을 입력받거나 출력할 때 시간초과가 날 수 있다는 점이다.\n",
    "\n",
    "# C++을 사용하고 있고 cin/cout을 사용하고자 한다면, cin.tie(NULL)과 sync_with_stdio(false)를 둘 다 적용해 주고, endl 대신 개행문자(\\n)를 쓰자. 단, 이렇게 하면 더 이상 scanf/printf/puts/getchar/putchar 등 C의 입출력 방식을 사용하면 안 된다.\n",
    "\n",
    "# Java를 사용하고 있다면, Scanner와 System.out.println 대신 BufferedReader와 BufferedWriter를 사용할 수 있다. BufferedWriter.flush는 맨 마지막에 한 번만 하면 된다.\n",
    "\n",
    "# Python을 사용하고 있다면, input 대신 sys.stdin.readline을 사용할 수 있다. 단, 이때는 맨 끝의 개행문자까지 같이 입력받기 때문에 문자열을 저장하고 싶을 경우 .rstrip()을 추가로 해 주는 것이 좋다.\n",
    "\n",
    "# 또한 입력과 출력 스트림은 별개이므로, 테스트케이스를 전부 입력받아서 저장한 뒤 전부 출력할 필요는 없다. 테스트케이스를 하나 받은 뒤 하나 출력해도 된다.\n",
    "\n",
    "# 자세한 설명 및 다른 언어의 경우는 이 글에 설명되어 있다.\n",
    "\n",
    "# 이 블로그 글에서 BOJ의 기타 여러 가지 팁을 볼 수 있다.\n",
    "\n",
    "# 입력\n",
    "# 첫 줄에 테스트케이스의 개수 T가 주어진다. T는 최대 1,000,000이다. 다음 T줄에는 각각 두 정수 A와 B가 주어진다. A와 B는 1 이상, 1,000 이하이다.\n",
    "\n",
    "# 출력\n",
    "# 각 테스트케이스마다 A+B를 한 줄에 하나씩 순서대로 출력한다.\n",
    "\n",
    "# 예제 입력 1 \n",
    "# 5\n",
    "# 1 1\n",
    "# 12 34\n",
    "# 5 500\n",
    "# 40 60\n",
    "# 1000 1000\n",
    "# 예제 출력 1 \n",
    "# 2\n",
    "# 46\n",
    "# 505\n",
    "# 100\n",
    "# 2000\n",
    "import sys\n",
    "n=int(sys.stdin.readline())\n",
    "\n",
    "for i in range(0,n):\n",
    "    a,b=map(int,sys.stdin.readline().split())\n",
    "    print(a+b)"
   ]
  },
  {
   "cell_type": "code",
   "execution_count": null,
   "metadata": {},
   "outputs": [
    {
     "name": "stdout",
     "output_type": "stream",
     "text": [
      "1\n",
      "2\n",
      "3\n",
      "4\n",
      "5\n"
     ]
    }
   ],
   "source": [
    "# 자연수 N이 주어졌을 때, 1부터 N까지 한 줄에 하나씩 출력하는 프로그램을 작성하시오.\n",
    "\n",
    "# 입력\n",
    "# 첫째 줄에 100,000보다 작거나 같은 자연수 N이 주어진다.\n",
    "\n",
    "# 출력\n",
    "# 첫째 줄부터 N번째 줄 까지 차례대로 출력한다.\n",
    "\n",
    "# 예제 입력 1 \n",
    "# 5\n",
    "# 예제 출력 1 \n",
    "# 1\n",
    "# 2\n",
    "# 3\n",
    "# 4\n",
    "# 5\n",
    "n= int(input())\n",
    "for i in range(1,n+1):\n",
    "    print(i)"
   ]
  },
  {
   "cell_type": "code",
   "execution_count": null,
   "metadata": {},
   "outputs": [
    {
     "name": "stdout",
     "output_type": "stream",
     "text": [
      "5\n",
      "4\n",
      "3\n",
      "2\n",
      "1\n"
     ]
    }
   ],
   "source": [
    "n= int(input())\n",
    "for i in range(0,n):\n",
    "    print(n-i)"
   ]
  },
  {
   "cell_type": "code",
   "execution_count": null,
   "metadata": {},
   "outputs": [],
   "source": [
    "# 첫째 줄에 테스트 케이스의 개수 T가 주어진다.\n",
    "\n",
    "# 각 테스트 케이스는 한 줄로 이루어져 있으며, 각 줄에 A와 B가 주어진다. (0 < A, B < 10)\n",
    "\n",
    "# 출력\n",
    "# 각 테스트 케이스마다 \"Case #x: \"를 출력한 다음, A+B를 출력한다. 테스트 케이스 번호는 1부터 시작한다.\n",
    "\n",
    "# 예제 입력 1 \n",
    "# 5\n",
    "# 1 1\n",
    "# 2 3\n",
    "# 3 4\n",
    "# 9 8\n",
    "# 5 2\n",
    "# 예제 출력 1 \n",
    "# Case #1: 2\n",
    "# Case #2: 5\n",
    "# Case #3: 7\n",
    "# Case #4: 17\n",
    "# Case #5: 7\n",
    "n=int(input())\n",
    "for i in range(1,n+1):\n",
    "    a,b=map(int,input().split())\n",
    "    print(\"Case #%d: %d\"%(i,a+b))\n"
   ]
  },
  {
   "cell_type": "code",
   "execution_count": null,
   "metadata": {},
   "outputs": [],
   "source": [
    "n=int(input())\n",
    "for i in range(1,n+1):\n",
    "    a,b=map(int,input().split())\n",
    "    print(\"Case #%d: %d + %d = %d\"%(i,a,b,a+b))"
   ]
  },
  {
   "cell_type": "code",
   "execution_count": null,
   "metadata": {},
   "outputs": [
    {
     "name": "stdout",
     "output_type": "stream",
     "text": [
      "    *\n",
      "   **\n",
      "  ***\n",
      " ****\n",
      "*****\n"
     ]
    }
   ],
   "source": [
    "n=int(input())\n",
    "for i in range(1,n+1):\n",
    "    print((\"*\"*i).rjust(n))"
   ]
  },
  {
   "cell_type": "code",
   "execution_count": null,
   "metadata": {},
   "outputs": [
    {
     "name": "stdout",
     "output_type": "stream",
     "text": [
      "1 4 2 3 "
     ]
    }
   ],
   "source": [
    "# 정수 N개로 이루어진 수열 A와 정수 X가 주어진다. 이때, A에서 X보다 작은 수를 모두 출력하는 프로그램을 작성하시오.\n",
    "\n",
    "# 입력\n",
    "# 첫째 줄에 N과 X가 주어진다. (1 ≤ N, X ≤ 10,000)\n",
    "\n",
    "# 둘째 줄에 수열 A를 이루는 정수 N개가 주어진다. 주어지는 정수는 모두 1보다 크거나 같고, 10,000보다 작거나 같은 정수이다.\n",
    "\n",
    "# 출력\n",
    "# X보다 작은 수를 입력받은 순서대로 공백으로 구분해 출력한다. X보다 작은 수는 적어도 하나 존재한다.\n",
    "\n",
    "n,x = map(int,input().split())\n",
    "a= list(input().split())\n",
    "a= [int(i) for i in a]\n",
    "c=[]\n",
    "for j in a:\n",
    "    if j<x:\n",
    "        c.append(j)\n",
    "\n",
    "for k in c:\n",
    "        print(k,end=\" \")\n",
    "        \n"
   ]
  },
  {
   "cell_type": "code",
   "execution_count": null,
   "metadata": {},
   "outputs": [
    {
     "name": "stdout",
     "output_type": "stream",
     "text": [
      "6\n",
      "6\n",
      "8\n",
      "10\n"
     ]
    }
   ],
   "source": [
    "# 두 정수 A와 B를 입력받은 다음, A+B를 출력하는 프로그램을 작성하시오.\n",
    "\n",
    "# 입력\n",
    "# 입력은 여러 개의 테스트 케이스로 이루어져 있다.\n",
    "\n",
    "# 각 테스트 케이스는 한 줄로 이루어져 있으며, 각 줄에 A와 B가 주어진다. (0 < A, B < 10)\n",
    "\n",
    "# 입력의 마지막에는 0 두 개가 들어온다.\n",
    "\n",
    "# 출력\n",
    "# 각 테스트 케이스마다 A+B를 출력한다.\n",
    "\n",
    "# 예제 입력 1 \n",
    "# 1 1\n",
    "# 2 3\n",
    "# 3 4\n",
    "# 9 8\n",
    "# 5 2\n",
    "# 0 0\n",
    "# 예제 출력 1 \n",
    "# 2\n",
    "# 5\n",
    "# 7\n",
    "# 17\n",
    "# 7\n",
    "\n",
    "while True:\n",
    "    a,b = map(int,input().split())\n",
    "    if a == 0 and b==0 :\n",
    "        break\n",
    "    print(a+b)"
   ]
  },
  {
   "cell_type": "code",
   "execution_count": null,
   "metadata": {},
   "outputs": [],
   "source": [
    "while True:\n",
    "    a,b = map(int,input().split())\n",
    "    print(a+b)\n",
    "    "
   ]
  },
  {
   "cell_type": "code",
   "execution_count": null,
   "metadata": {},
   "outputs": [
    {
     "name": "stdout",
     "output_type": "stream",
     "text": [
      "0\n"
     ]
    }
   ],
   "source": [
    "\n",
    "init_value=int(input())\n",
    "n=0\n",
    "fir_val=init_value\n",
    "las_val=999\n",
    "\n",
    "while True:\n",
    "    if init_value <0 and init_value > 99:\n",
    "        n='error'\n",
    "        break\n",
    "    if las_val == init_value:\n",
    "        break\n",
    "    a = fir_val//10\n",
    "    \n",
    "    b = fir_val%10\n",
    "\n",
    "    inter_sum = a+b\n",
    "\n",
    "    las_val = b*10 + inter_sum%10\n",
    "    fir_val = las_val\n",
    "    n+=1\n",
    "\n",
    "print(n)\n",
    "\n",
    "\n"
   ]
  },
  {
   "cell_type": "code",
   "execution_count": null,
   "metadata": {},
   "outputs": [],
   "source": []
  },
  {
   "cell_type": "code",
   "execution_count": null,
   "metadata": {},
   "outputs": [
    {
     "name": "stdout",
     "output_type": "stream",
     "text": [
      "6\n"
     ]
    }
   ],
   "source": [
    "n=int(input())\n",
    "a= list(range(1,n+1))\n",
    "print(sum(a))\n"
   ]
  },
  {
   "cell_type": "code",
   "execution_count": null,
   "metadata": {},
   "outputs": [
    {
     "name": "stdout",
     "output_type": "stream",
     "text": [
      "7 35\n"
     ]
    }
   ],
   "source": [
    "n= int(input())\n",
    "n_list=[int(j) for j in list(input().split())]\n",
    "\n",
    "print(min(n_list), end=' ')\n",
    "print(max(n_list))\n"
   ]
  },
  {
   "cell_type": "code",
   "execution_count": null,
   "metadata": {},
   "outputs": [
    {
     "name": "stdout",
     "output_type": "stream",
     "text": [
      "85\n",
      "7\n"
     ]
    }
   ],
   "source": [
    "n=1\n",
    "a=[]\n",
    "while n <10:\n",
    "    a.append(int(input()))\n",
    "    n+=1\n",
    "\n",
    "b=max(a)\n",
    "c=a.index(b)+1\n",
    "\n",
    "print(b)\n",
    "print(c)"
   ]
  },
  {
   "cell_type": "code",
   "execution_count": null,
   "metadata": {},
   "outputs": [
    {
     "name": "stdout",
     "output_type": "stream",
     "text": [
      "3\n",
      "1\n",
      "0\n",
      "2\n",
      "0\n",
      "0\n",
      "0\n",
      "2\n",
      "0\n",
      "0\n"
     ]
    }
   ],
   "source": [
    "a = int(input())    \n",
    "b = int(input())\n",
    "c = int(input())\n",
    "\n",
    "cal=str(a*b*c)\n",
    "\n",
    "for i in range(0,10):\n",
    "    print(cal.count(str(i)))\n",
    "\n"
   ]
  },
  {
   "cell_type": "code",
   "execution_count": 22,
   "metadata": {},
   "outputs": [
    {
     "name": "stdout",
     "output_type": "stream",
     "text": [
      "1\n"
     ]
    }
   ],
   "source": [
    "n=1\n",
    "alist=[]\n",
    "blist=[]\n",
    "\n",
    "while n <11:\n",
    "    n+=1\n",
    "    k=int(input())\n",
    "    alist.append(k)\n",
    "\n",
    "for i in alist:\n",
    "    if i%42 not in blist:\n",
    "        blist.append(i%42)\n",
    "\n",
    "print(len(blist))"
   ]
  },
  {
   "cell_type": "code",
   "execution_count": 11,
   "metadata": {},
   "outputs": [
    {
     "name": "stdout",
     "output_type": "stream",
     "text": [
      "75.0\n"
     ]
    }
   ],
   "source": [
    "num=int(input())\n",
    "alist=list(input().split())\n",
    "alist_int=[int(i) for i in alist]\n",
    "alist_max=max(alist_int)\n",
    "alist_cal=[ j * (100/alist_max) for j in alist_int]\n",
    "print(sum(alist_cal)/num)\n"
   ]
  },
  {
   "cell_type": "code",
   "execution_count": 2,
   "metadata": {},
   "outputs": [
    {
     "name": "stdout",
     "output_type": "stream",
     "text": [
      "10\n",
      "9\n",
      "7\n",
      "55\n",
      "30\n"
     ]
    }
   ],
   "source": [
    "num=int(input())\n",
    "n=0\n",
    "count=1\n",
    "score=0\n",
    "while n < num:\n",
    "    n+=1\n",
    "    content=input()\n",
    "    for i in content:\n",
    "        if i == 'O':\n",
    "            score=score+count\n",
    "            count+=1\n",
    "        else:\n",
    "            count=1\n",
    "    print(score)\n",
    "    count=1\n",
    "    score=0"
   ]
  },
  {
   "cell_type": "code",
   "execution_count": 4,
   "metadata": {},
   "outputs": [
    {
     "name": "stdout",
     "output_type": "stream",
     "text": [
      "40.000%\n",
      "57.143%\n",
      "33.333%\n",
      "66.667%\n",
      "55.556%\n"
     ]
    }
   ],
   "source": [
    "test_case_num = int(input())\n",
    "n=0\n",
    "while n < test_case_num:\n",
    "    n+=1\n",
    "    alist=list(input().split())\n",
    "    alist_int=[int(i) for i in alist]\n",
    "\n",
    "    count=0\n",
    "\n",
    "    total=sum(alist_int)-alist_int[0]\n",
    "    average=total/alist_int[0]\n",
    "\n",
    "    for j in alist_int:\n",
    "\n",
    "        if j > average:\n",
    "            count+=1\n",
    "    \n",
    "    cal_avg=count/(len(alist_int)-1)\n",
    "    print(\"{:.3f}%\".format(cal_avg*100))\n",
    "\n"
   ]
  },
  {
   "cell_type": "code",
   "execution_count": 4,
   "metadata": {},
   "outputs": [
    {
     "name": "stdout",
     "output_type": "stream",
     "text": [
      "3\n",
      "5\n",
      "7\n",
      "11\n",
      "13\n"
     ]
    }
   ],
   "source": [
    "min, max = map(int, input().split())\n",
    "\n",
    "\n",
    "for i in range(min, max+1):\n",
    "    result=1\n",
    "    for j in range(2,i):\n",
    "        if i%j==0:\n",
    "            result=result*0\n",
    "        else:\n",
    "            result=result*1\n",
    "    \n",
    "    if result==1:\n",
    "        print(i)\n",
    "    \n"
   ]
  },
  {
   "cell_type": "code",
   "execution_count": 9,
   "metadata": {},
   "outputs": [
    {
     "name": "stdout",
     "output_type": "stream",
     "text": [
      "[[ 3  4  5  6  7  8  9 10 11 12 13 14 15 16]] 14\n"
     ]
    }
   ],
   "source": [
    "import numpy as np\n",
    "\n",
    "min, max = map(int, input().split())\n",
    "\n",
    "for i in range(min, max+1):\n",
    "    n_matrix=np.matrix(range(2,i))\n",
    "\n",
    "    \n",
    "\n",
    "print(n_matrix)"
   ]
  },
  {
   "cell_type": "code",
   "execution_count": 30,
   "metadata": {},
   "outputs": [
    {
     "name": "stdout",
     "output_type": "stream",
     "text": [
      "3\n",
      "5\n",
      "7\n",
      "11\n",
      "13\n"
     ]
    }
   ],
   "source": [
    "import numpy as np\n",
    "\n",
    "min, max = map(int, input().split())\n",
    "\n",
    "for i in range(min, max+1):\n",
    "    n_matrix=np.array(range(2,i))\n",
    "    i_matrix=np.ones(n_matrix.size)*i\n",
    "\n",
    "    k_matrix=i_matrix%n_matrix\n",
    "\n",
    "    if k_matrix.all() != 0:\n",
    "        if i == 1:\n",
    "            pass\n",
    "        else:\n",
    "            print(i)\n"
   ]
  },
  {
   "cell_type": "code",
   "execution_count": 35,
   "metadata": {},
   "outputs": [
    {
     "name": "stdout",
     "output_type": "stream",
     "text": [
      "3\n",
      "5\n",
      "7\n",
      "11\n",
      "13\n"
     ]
    }
   ],
   "source": [
    "min, max = map(int, input().split())\n",
    "\n",
    "i_list = list(range(min, max+1))\n",
    "\n",
    "for j in range(2, max):\n",
    "    for i in i_list:\n",
    "        if i%j ==0 and i!=j:\n",
    "            i_list.remove(i)\n",
    "\n",
    "for i in i_list:\n",
    "    print(i)\n"
   ]
  },
  {
   "cell_type": "code",
   "execution_count": 7,
   "metadata": {},
   "outputs": [
    {
     "name": "stdout",
     "output_type": "stream",
     "text": [
      "2\n",
      "3\n",
      "4\n"
     ]
    }
   ],
   "source": [
    "min, max = map(int, input().split())\n",
    "\n",
    "i_list = list(range(min, max+1))\n",
    "result_list=list(range(min, max+1))\n",
    "j_list = list(range(2,int(max**0.5)))\n",
    "\n",
    "\n",
    "for i in i_list:\n",
    "    n=1\n",
    "    if i==1:\n",
    "        result_list.remove(i)\n",
    "    \n",
    "    else:\n",
    "        \n",
    "        for j in j_list:\n",
    "            if i%j ==0 and i!=j:\n",
    "                result_list.remove(i)\n",
    "                n=n*0\n",
    "                break\n",
    "        if n==1:\n",
    "            print(i)\n",
    "\n",
    "    \n"
   ]
  },
  {
   "cell_type": "code",
   "execution_count": 26,
   "metadata": {},
   "outputs": [
    {
     "name": "stdout",
     "output_type": "stream",
     "text": [
      "***\n",
      "* *\n",
      "***\n",
      "***\n",
      "* *\n",
      "***\n",
      "***\n",
      "* *\n",
      "***\n",
      "\n",
      "***\n",
      "* *\n",
      "***\n",
      " ***\n",
      "* *\n",
      "***\n",
      "\n",
      "***\n",
      "* *\n",
      "***\n",
      "***\n",
      "* *\n",
      "***\n",
      "***\n",
      "* *\n",
      "***\n",
      "\n",
      "\n"
     ]
    }
   ],
   "source": [
    "a='*' * 3 + '\\n' + '*' * 1 + ' ' * 1 + '*'*1 + '\\n' + '*' * 3 +'\\n'\n",
    "b= a * 3 + '\\n' + a * 1 + ' ' * 1 + a*1 + '\\n' + a * 3 +'\\n'\n",
    "print(b)\n"
   ]
  },
  {
   "cell_type": "code",
   "execution_count": 23,
   "metadata": {},
   "outputs": [
    {
     "name": "stdout",
     "output_type": "stream",
     "text": [
      "***\n",
      "* *\n",
      "******\n",
      "* *\n",
      "***\n"
     ]
    }
   ],
   "source": [
    "print(a+a)"
   ]
  }
 ],
 "metadata": {
  "interpreter": {
   "hash": "ce29000cb27d48e66893f3f278a495ac0ce86a7861dd75311bfbc559cd9bba05"
  },
  "kernelspec": {
   "display_name": "Python 3.10.4 64-bit",
   "language": "python",
   "name": "python3"
  },
  "language_info": {
   "codemirror_mode": {
    "name": "ipython",
    "version": 3
   },
   "file_extension": ".py",
   "mimetype": "text/x-python",
   "name": "python",
   "nbconvert_exporter": "python",
   "pygments_lexer": "ipython3",
   "version": "3.10.4"
  },
  "orig_nbformat": 4
 },
 "nbformat": 4,
 "nbformat_minor": 2
}
