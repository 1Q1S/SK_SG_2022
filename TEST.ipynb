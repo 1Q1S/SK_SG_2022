{
 "cells": [
  {
   "cell_type": "code",
   "execution_count": 24,
   "metadata": {},
   "outputs": [
    {
     "name": "stdout",
     "output_type": "stream",
     "text": [
      "hello python\n"
     ]
    }
   ],
   "source": [
    "print('hello python')"
   ]
  },
  {
   "cell_type": "code",
   "execution_count": 25,
   "metadata": {},
   "outputs": [
    {
     "name": "stdout",
     "output_type": "stream",
     "text": [
      "{'1월': 31, '2월': 28, '3월': 31, '4월': 30, '5월': 31, '6월': 30, '7월': 31, '8월': 31, '9월': 30, '10월': 31, '11월': 30, '12월': 31}\n"
     ]
    }
   ],
   "source": [
    "lastday={'1월':31,'2월':28,'3월':31,'4월':30,'5월':31,'6월':30,'7월':31,'8월':31,'9월':30,'10월':31,'11월':30,'12월':31}\n",
    "print(lastday)"
   ]
  },
  {
   "cell_type": "code",
   "execution_count": 37,
   "metadata": {},
   "outputs": [
    {
     "name": "stdout",
     "output_type": "stream",
     "text": [
      "{'1월': 31, '2월': 28, '3월': 31, '4월': 30, '5월': 31, '6월': 30, '7월': 31, '8월': 31, '9월': 30, '10월': 31, '11월': 30, '12월': 31}\n"
     ]
    }
   ],
   "source": [
    "month_lastday={}\n",
    "lastday=0\n",
    "\n",
    "for i in range(1,13):\n",
    "\n",
    "    month=str(i) + '월'\n",
    "\n",
    "    if i ==2 :\n",
    "        lastday=28\n",
    "\n",
    "    elif i in [1,3,5,7,8,10,12] :\n",
    "        lastday=31\n",
    "\n",
    "    else :\n",
    "        lastday=30\n",
    "\n",
    "    month_lastday[month]=lastday\n",
    "\n",
    "\n",
    "print(month_lastday)\n",
    "\n",
    "    \n"
   ]
  },
  {
   "cell_type": "code",
   "execution_count": 39,
   "metadata": {},
   "outputs": [
    {
     "name": "stdout",
     "output_type": "stream",
     "text": [
      "{'1월': 31, '2월': 28, '3월': 31, '4월': 30, '5월': 31, '6월': 30, '7월': 31, '8월': 31, '9월': 30, '10월': 31, '11월': 30, '12월': 31}\n"
     ]
    }
   ],
   "source": [
    "month_lastday={}\n",
    "month_lastday_list = [31,28,31,30,31,30,31,31,30,31,30,31]\n",
    "\n",
    "for i, j in enumerate(month_lastday_list):\n",
    "\n",
    "    month=str(i+1) + '월'\n",
    "    lastday=j\n",
    "    \n",
    "    month_lastday[month]=lastday\n",
    "\n",
    "\n",
    "print(month_lastday)\n",
    "\n",
    "    \n"
   ]
  },
  {
   "cell_type": "code",
   "execution_count": 40,
   "metadata": {},
   "outputs": [
    {
     "name": "stdout",
     "output_type": "stream",
     "text": [
      "31 28 31\n"
     ]
    }
   ],
   "source": [
    "month_lastday={'1월': 31, '2월': 28, '3월': 31, '4월': 30, '5월': 31, '6월': 30, '7월': 31, '8월': 31, '9월': 30, '10월': 31, '11월': 30, '12월': 31}\n",
    "\n",
    "print(month_lastday['1월'],month_lastday['2월'],month_lastday['3월'])"
   ]
  },
  {
   "cell_type": "code",
   "execution_count": 45,
   "metadata": {},
   "outputs": [
    {
     "name": "stdout",
     "output_type": "stream",
     "text": [
      "1월\n",
      "2월\n",
      "3월\n",
      "4월\n",
      "5월\n",
      "6월\n",
      "7월\n",
      "8월\n",
      "9월\n",
      "10월\n",
      "11월\n",
      "12월\n",
      "1월\n",
      "2월\n",
      "3월\n",
      "4월\n",
      "5월\n",
      "6월\n",
      "7월\n",
      "8월\n",
      "9월\n",
      "10월\n",
      "11월\n",
      "12월\n"
     ]
    }
   ],
   "source": [
    "#딕셔너리이름. keys() // 딕셔너리의 key 값을  return 한다.\n",
    "month_lastday={'1월': 31, '2월': 28, '3월': 31, '4월': 30, '5월': 31, '6월': 30, '7월': 31, '8월': 31, '9월': 30, '10월': 31, '11월': 30, '12월': 31}\n",
    "\n",
    "for key in month_lastday.keys():\n",
    "    print(key)\n",
    "\n",
    "for key in month_lastday :\n",
    "    print(key)"
   ]
  },
  {
   "cell_type": "code",
   "execution_count": 2,
   "metadata": {},
   "outputs": [
    {
     "name": "stdout",
     "output_type": "stream",
     "text": [
      "1월 31\n",
      "2월 28\n",
      "3월 31\n",
      "4월 30\n",
      "5월 31\n",
      "6월 30\n",
      "7월 31\n",
      "8월 31\n",
      "9월 30\n",
      "10월 31\n",
      "11월 30\n",
      "12월 31\n"
     ]
    }
   ],
   "source": [
    "#(문제) 딕셔너리에 각 달의 마지막 날들을 한번에 담고, keys()로 key, value 순회출력\n",
    "\n",
    "month_lastday={'1월': 31, '2월': 28, '3월': 31, '4월': 30, '5월': 31, '6월': 30, '7월': 31, '8월': 31, '9월': 30, '10월': 31, '11월': 30, '12월': 31}\n",
    "\n",
    "for i in month_lastday.keys():\n",
    "    print(i,month_lastday[i])\n",
    " "
   ]
  },
  {
   "cell_type": "code",
   "execution_count": 3,
   "metadata": {},
   "outputs": [
    {
     "name": "stdout",
     "output_type": "stream",
     "text": [
      "31\n",
      "28\n",
      "31\n",
      "30\n",
      "31\n",
      "30\n",
      "31\n",
      "31\n",
      "30\n",
      "31\n",
      "30\n",
      "31\n"
     ]
    }
   ],
   "source": [
    "#(문제) 딕셔너리에 각 달의 마지막 날들을 한번에 담고, values()로 value 순회출력\n",
    "month_lastday={'1월': 31, '2월': 28, '3월': 31, '4월': 30, '5월': 31, '6월': 30, '7월': 31, '8월': 31, '9월': 30, '10월': 31, '11월': 30, '12월': 31}\n",
    "\n",
    "for i in month_lastday.values():\n",
    "    print(i)"
   ]
  },
  {
   "cell_type": "code",
   "execution_count": 4,
   "metadata": {},
   "outputs": [
    {
     "name": "stdout",
     "output_type": "stream",
     "text": [
      "1\n",
      "3\n",
      "16\n",
      "7\n",
      "11\n",
      "200\n"
     ]
    }
   ],
   "source": [
    "# 리스트에서 가장 작은 값을 구해주는 함수를 만들어주세요.\n",
    "def get_min_number_in_list(list1) :\n",
    "    n=0\n",
    "    for i in list1:\n",
    "        if n==0:\n",
    "            j=i\n",
    "            n=n+1\n",
    "        elif j > i:\n",
    "            j=i\n",
    "    return j\n",
    "\n",
    "# 리스트에서 가장 큰 값을 구해주는 함수를 만들어주세요.\n",
    "def get_max_number_in_list(list1) :\n",
    "    n=0\n",
    "    for i in list1:\n",
    "        if n==0:\n",
    "            j=i\n",
    "            n=n+1\n",
    "        elif j < i:\n",
    "            j=i\n",
    "    return j\n",
    "# 실험 대상이 될 3개의 리스트.\n",
    "list1 = [6,1,2,5,7,3];\n",
    "list2 = [7,11,3,5,9,5];\n",
    "list3 = [16,21,200,57,17,32];\n",
    "# 각 리스트를 함수에 넣어서 결과를 본다.\n",
    "rst = get_min_number_in_list(list1)\n",
    "print(rst) # 출력 : 최소값 : 1\n",
    "rst = get_min_number_in_list(list2)\n",
    "print(rst) # 출력 : 최소값 : 3\n",
    "rst = get_min_number_in_list(list3) \n",
    "print(rst) # 출력 : 최소값 : 16\n",
    "rst = get_max_number_in_list(list1)\n",
    "print(rst) # 출력 : 최대값 : 7\n",
    "rst = get_max_number_in_list(list2)\n",
    "print(rst) # 출력 : 최대값 : 11\n",
    "rst = get_max_number_in_list(list3) \n",
    "print(rst) # 출력 : 최대값 : 200"
   ]
  },
  {
   "cell_type": "code",
   "execution_count": 6,
   "metadata": {},
   "outputs": [
    {
     "name": "stdout",
     "output_type": "stream",
     "text": [
      "1월   31\n",
      "2월   28\n",
      "3월   31\n",
      "4월   30\n",
      "5월   31\n",
      "6월   30\n",
      "7월   31\n",
      "8월   31\n",
      "9월   30\n",
      "10월   31\n",
      "11월   30\n",
      "12월   31\n"
     ]
    }
   ],
   "source": [
    "# (문제) 딕셔너리에 각 달의 마지막 날들을 한번에 담고, items()로 key, value 순회출력\n",
    "month_lastday={'1월': 31, '2월': 28, '3월': 31, '4월': 30, '5월': 31, '6월': 30, '7월': 31, '8월': 31, '9월': 30, '10월': 31, '11월': 30, '12월': 31}\n",
    "\n",
    "for i,j in month_lastday.items():\n",
    "    print(i,' ',j)"
   ]
  },
  {
   "cell_type": "code",
   "execution_count": 7,
   "metadata": {},
   "outputs": [
    {
     "name": "stdout",
     "output_type": "stream",
     "text": [
      "{'1월': 31, '2월': 28, '4월': 30, '5월': 31, '6월': 30, '7월': 31, '8월': 31, '9월': 30, '10월': 31, '11월': 30, '12월': 31}\n"
     ]
    }
   ],
   "source": [
    "#(문제) 딕셔너리에 각 달의 마지막 날들을 한번에 담고, 3월 정보를 제거\n",
    "month_lastday={'1월': 31, '2월': 28, '3월': 31, '4월': 30, '5월': 31, '6월': 30, '7월': 31, '8월': 31, '9월': 30, '10월': 31, '11월': 30, '12월': 31}\n",
    "del month_lastday['3월']\n",
    "print(month_lastday)"
   ]
  },
  {
   "cell_type": "code",
   "execution_count": 8,
   "metadata": {},
   "outputs": [
    {
     "name": "stdout",
     "output_type": "stream",
     "text": [
      "{'1월': 31, '2월': 29, '3월': 31, '4월': 30, '5월': 31, '6월': 30, '7월': 31, '8월': 31, '9월': 30, '10월': 31, '11월': 30, '12월': 31}\n"
     ]
    }
   ],
   "source": [
    "#(문제) 딕셔너리에 각 달의 마지막 날들을 한번에 담고, 2월을 29일로 수정\n",
    "month_lastday={'1월': 31, '2월': 28, '3월': 31, '4월': 30, '5월': 31, '6월': 30, '7월': 31, '8월': 31, '9월': 30, '10월': 31, '11월': 30, '12월': 31}\n",
    "month_lastday['2월'] = 29\n",
    "print(month_lastday)"
   ]
  },
  {
   "cell_type": "code",
   "execution_count": 10,
   "metadata": {},
   "outputs": [
    {
     "name": "stdout",
     "output_type": "stream",
     "text": [
      "{'1월': 31, '2월': 29, '3월': 31, '4월': 30, '5월': 31}\n"
     ]
    }
   ],
   "source": [
    "#(문제) update를 이용하여, 2월을 29일로 수정하고 4월, 5월의 정보도 추가\n",
    "month_lastday1={'1월': 31, '2월': 28, '3월': 31}\n",
    "month_lastday2={'2월': 29, '4월': 30, '5월': 31}\n",
    "\n",
    "month_lastday1.update(month_lastday2)\n",
    "\n",
    "print(month_lastday1)\n"
   ]
  },
  {
   "cell_type": "code",
   "execution_count": 11,
   "metadata": {},
   "outputs": [
    {
     "name": "stdout",
     "output_type": "stream",
     "text": [
      "{'영수': 11, '영희': 12, '철수': 13, '민수': 14, '희수': 15}\n",
      "{'영수': 11, '영희': 12, '철수': 13, '민수': 14}\n"
     ]
    }
   ],
   "source": [
    "#(문제) 영수, 영희, 철수, 민수의 나이를 딕셔너리에 담기\n",
    "name_age={'영수': 11, '영희': 12, '철수': 13,'민수': 14, '희수': 15}\n",
    "print(name_age)\n",
    "\n",
    "del name_age['희수']\n",
    "print(name_age)\n"
   ]
  },
  {
   "cell_type": "code",
   "execution_count": 12,
   "metadata": {},
   "outputs": [
    {
     "name": "stdout",
     "output_type": "stream",
     "text": [
      "('영수', 11)\n",
      "('영희', 12)\n",
      "('철수', 13)\n",
      "('민수', 14)\n"
     ]
    }
   ],
   "source": [
    "# (문제) 영수, 영희, 철수, 민수의 나이를 딕셔너리에 담고, 데이터를 넣은 순서대로 순회출력\n",
    "name_age={'영수': 11, '영희': 12, '철수': 13,'민수': 14}\n",
    "\n",
    "for i in name_age.items():\n",
    "    print(i)\n"
   ]
  },
  {
   "cell_type": "code",
   "execution_count": 13,
   "metadata": {},
   "outputs": [
    {
     "data": {
      "text/plain": [
       "\"\\n- Class의 이름은 대문자로 시작해야한다.\\n- Class의 경우도 마찬가지로 특수문자나 숫자로 시작하면 안된다.\\n\\n- Class 클래스이름 : \\n    데이터 속성\\n    데이터를 이용한 함수\\n- 예시\\nclass Person:\\n    age = 21\\n    name ='홍길동'\\n    \\n    def introduce(self):\\n        print(self.age, self.name)\\n\\nA = Person() # Person 객체를 생성하여 변수에 할당\\nA.age=24\\nA.name='홍길순'\\n\\n\""
      ]
     },
     "execution_count": 13,
     "metadata": {},
     "output_type": "execute_result"
    }
   ],
   "source": [
    "# Class\n",
    "'''\n",
    "- Class의 이름은 대문자로 시작해야한다.\n",
    "- Class의 경우도 마찬가지로 특수문자나 숫자로 시작하면 안된다.\n",
    "\n",
    "- Class 클래스이름 : \n",
    "    데이터 속성\n",
    "    데이터를 이용한 함수\n",
    "- 예시\n",
    "class Person:\n",
    "    age = 21\n",
    "    name ='홍길동'\n",
    "    \n",
    "    def introduce(self):\n",
    "        print(self.age, self.name)\n",
    "\n",
    "A = Person() # Person 객체를 생성하여 변수에 할당\n",
    "A.age=24\n",
    "A.name='홍길순'\n",
    "\n",
    "'''"
   ]
  },
  {
   "cell_type": "code",
   "execution_count": 16,
   "metadata": {},
   "outputs": [
    {
     "name": "stdout",
     "output_type": "stream",
     "text": [
      "자동차가 달립니다.\n",
      "자동차가 달립니다.\n",
      "자동차가 달립니다.\n",
      "자동차가 달립니다.\n",
      "자동차가 달립니다.\n",
      "자동차가 달립니다.\n"
     ]
    }
   ],
   "source": [
    "# 문제 : 자동차가 3번 달리게 해주세요.\n",
    "# 출력 : 자동차가 달립니다.\n",
    "class Car :\n",
    "  def drive(self):\n",
    "    print(\"자동차가 달립니다.\")\n",
    "# v1. 1개의 자동차가 3번 달리게 해주세요.\n",
    "c1 = Car()\n",
    "c1.drive()\n",
    "c1.drive()\n",
    "c1.drive()\n",
    "\n",
    "#c1.drive() c1.drive()v2. 3개의 자동차가 1번씩 달리게 해주세요.\n",
    "c2 = Car()\n",
    "c3 = Car()\n",
    "\n",
    "c1.drive()\n",
    "c2.drive()\n",
    "c3.drive()\n",
    "# 자동차가 달립니다.\n",
    "# 자동차가 달립니다.\n",
    "# 자동차가 달립니다.\n",
    "# 자동차가 달립니다.\n",
    "# 자동차가 달립니다.\n",
    "# 자동차가 달립니다.\n"
   ]
  },
  {
   "cell_type": "code",
   "execution_count": 18,
   "metadata": {},
   "outputs": [
    {
     "name": "stdout",
     "output_type": "stream",
     "text": [
      "자동차가 최대속력 220km로 달립니다.\n",
      "자동차가 최대속력 250km로 달립니다.\n"
     ]
    }
   ],
   "source": [
    "# 문제 : 자동차 객체를 담을 변수를 만들어주세요.\n",
    "# 자동차 객체를 변수에 담고 그 변수를 이용해 최고속력이 서로 다르게 만들어주세요.\n",
    "\n",
    "# 각 자동차가 자신의 최고속력으로 달리게 해주세요.\n",
    "\n",
    "\n",
    "# 출력 : 자동차가 최대속력 220km로 달립니다.\n",
    "# 출력 : 자동차가 최대속력 250km로 달립니다.\n",
    "\n",
    "class Car:\n",
    "    def __init__(self,velosity):\n",
    "        self.velosity = velosity\n",
    "    def drive(self):\n",
    "        print('자동차가 최대속력 %dkm로 달립니다.'%(self.velosity))\n",
    "\n",
    "c1=Car(220)\n",
    "c2=Car(250)\n",
    "\n",
    "c1.drive()\n",
    "c2.drive()\n"
   ]
  },
  {
   "cell_type": "code",
   "execution_count": 3,
   "metadata": {},
   "outputs": [
    {
     "name": "stdout",
     "output_type": "stream",
     "text": [
      "안녕하세요. 27살 홍길동입니다.\n",
      "안녕하세요. 25살 홍길순입니다.\n"
     ]
    }
   ],
   "source": [
    "# 다음 코드가 동작하도록 class를 완성해주세요\n",
    "class Person:\n",
    "    def __init__ (self, name, age):\n",
    "      self.name = name\n",
    "      self.age = age\n",
    "    \n",
    "    def introduce (self):\n",
    "        print('안녕하세요. %d살 %s입니다.'%(self.age,self.name))\n",
    "\n",
    "p1 = Person(\"홍길동\", 27)\n",
    "p2 = Person(\"홍길순\", 25)\n",
    "\n",
    "p1.introduce() # 안녕하세요 27살 홍길동입니다.\n",
    "p2.introduce() # 안녕하세요 25살 홍길순입니다.\n",
    "\n"
   ]
  },
  {
   "cell_type": "code",
   "execution_count": 5,
   "metadata": {},
   "outputs": [
    {
     "name": "stdout",
     "output_type": "stream",
     "text": [
      "하얀색 소나타이/가  100km로 달립니다.\n",
      "검정색 모닝이/가  70km로 달립니다.\n"
     ]
    }
   ],
   "source": [
    "class Car:\n",
    "    def __init__(self, car, color, speed):\n",
    "        self.car = car\n",
    "        self.color = color\n",
    "        self.speed = speed\n",
    "    \n",
    "    def drive (self):\n",
    "        print('%s %s이/가  %dkm로 달립니다.'%(self.color,self.car,self.speed))\n",
    "\n",
    "\n",
    "c1 = Car(\"소나타\", \"하얀색\", 100)\n",
    "c2 = Car(\"모닝\", \"검정색\", 70)\n",
    "\n",
    "c1.drive() # 하얀색 소나타이/가 100km로 달립니다.\n",
    "c2.drive() # 검정색 모닝이/가 70km로 달립니다."
   ]
  },
  {
   "cell_type": "code",
   "execution_count": 6,
   "metadata": {},
   "outputs": [
    {
     "name": "stdout",
     "output_type": "stream",
     "text": [
      "4살 러시안블루 고양이 아리가 야옹하고 웁니다.\n",
      "6살 샴 고양이 망고가 야옹하고 웁니다.\n"
     ]
    }
   ],
   "source": [
    "class Cat:\n",
    "    def __init__(self, cat, kind, age):\n",
    "        self.cat = cat\n",
    "        self.kind = kind\n",
    "        self.age = age\n",
    "    \n",
    "    def meow (self):\n",
    "        print('%d살 %s 고양이 %s가 야옹하고 웁니다.'%(self.age,self.kind,self.cat))\n",
    "\n",
    "cat1 = Cat(\"아리\", \"러시안블루\", 4)\n",
    "cat2 = Cat(\"망고\", \"샴\", 6)\n",
    "\n",
    "cat1.meow() # 4살 러시안블루 고양이 아리가 야옹하고 웁니다.\n",
    "cat2.meow() # 6살 샴 고양이 망고가 야옹하고 웁니다."
   ]
  },
  {
   "cell_type": "code",
   "execution_count": 10,
   "metadata": {},
   "outputs": [
    {
     "name": "stdout",
     "output_type": "stream",
     "text": [
      "이름 : 이순신, 공격력 : 20, 방어력 : 10\n",
      "이름 : 강감찬, 공격력 : 15, 방어력 : 15\n",
      "이순신이 20의 데미지를 입힙니다.\n",
      "강감찬이 15의 데미지를 입힙니다.\n",
      "이순신이 10 데미지를 방어합니다.\n",
      "강감찬이 15 데미지를 방어합니다.\n"
     ]
    }
   ],
   "source": [
    "class Warrior:\n",
    "    def __init__(self, name, a, b):\n",
    "        self.name = name\n",
    "        self.a = a\n",
    "        self.b = b\n",
    "    \n",
    "    def attack (self):\n",
    "        print('%s이 %d의 데미지를 입힙니다.'%(self.name,self.a))\n",
    "\n",
    "    def status (self):\n",
    "        print('이름 : %s, 공격력 : %d, 방어력 : %d'%(self.name,self.a,self.b))\n",
    "\n",
    "    def defense (self):\n",
    "        print('%s이 %d 데미지를 방어합니다.'%(self.name,self.b))\n",
    "\n",
    "\n",
    "w1 = Warrior(\"이순신\", 20, 10)\n",
    "w2 = Warrior(\"강감찬\", 15, 15)\n",
    "\n",
    "w1.status() # 이름 : 이순신, 공격력 : 20, 방어력 : 10 \n",
    "w2.status() # 이름 : 강감찬, 공격력 : 15, 방어력 : 15 \n",
    "\n",
    "w1.attack() # 이순신이 20의 데미지를 입힙민다.\n",
    "w2.attack() # 강감찬이 15의 데미지를 입힙민다. \n",
    "\n",
    "w1.defense() # 이순신이 10 데미지를 방어합니다.\n",
    "w2.defense() # 강감찬이 15 데미지를 방어합니다."
   ]
  },
  {
   "cell_type": "code",
   "execution_count": 10,
   "metadata": {},
   "outputs": [
    {
     "name": "stdout",
     "output_type": "stream",
     "text": [
      "3 5\n",
      "1.145589828491211\n"
     ]
    }
   ],
   "source": [
    "\n",
    "# fibonacci(3)을 호출하면 다음과 같은 일이 일어난다.\n",
    "\n",
    "# fibonacci(3)은 fibonacci(2)와 fibonacci(1) (첫 번째 호출)을 호출한다.\n",
    "# fibonacci(2)는 fibonacci(1) (두 번째 호출)과 fibonacci(0)을 호출한다.\n",
    "# 두 번째 호출한 fibonacci(1)은 1을 출력하고 1을 리턴한다.\n",
    "# fibonacci(0)은 0을 출력하고, 0을 리턴한다.\n",
    "# fibonacci(2)는 fibonacci(1)과 fibonacci(0)의 결과를 얻고, 1을 리턴한다.\n",
    "# 첫 번째 호출한 fibonacci(1)은 1을 출력하고, 1을 리턴한다.\n",
    "# fibonacci(3)은 fibonacci(2)와 fibonacci(1)의 결과를 얻고, 2를 리턴한다.\n",
    "# 1은 2번 출력되고, 0은 1번 출력된다. N이 주어졌을 때, fibonacci(N)을 호출했을 때, 0과 1이 각각 몇 번 출력되는지 구하는 프로그램을 작성하시오.\n",
    "\n",
    "# 입력\n",
    "# 첫째 줄에 테스트 케이스의 개수 T가 주어진다.\n",
    "\n",
    "# 각 테스트 케이스는 한 줄로 이루어져 있고, N이 주어진다. N은 40보다 작거나 같은 자연수 또는 0이다.\n",
    "\n",
    "# 출력\n",
    "# 각 테스트 케이스마다 0이 출력되는 횟수와 1이 출력되는 횟수를 공백으로 구분해서 출력한다.\n",
    "import time\n",
    "\n",
    "st=time.time()\n",
    "list=[]\n",
    "\n",
    "def fibonacci(n):\n",
    "    global list\n",
    "    if (n == 0):\n",
    "        list.append(0)\n",
    "        return 0\n",
    "    elif (n == 1):\n",
    "        list.append(1)\n",
    "        return 1\n",
    "    else:\n",
    "        fibonacci(n-1)\n",
    "        fibonacci(n-2)\n",
    "        return \n",
    "\n",
    "\n",
    "case_no=int(input())\n",
    "i=0\n",
    "while i < case_no:\n",
    "    i+=1\n",
    "    a=int(input())\n",
    "    fibonacci(a)\n",
    "    print(str(list.count(0))+\" \"+str(list.count(1)))\n",
    "    list=[]\n",
    "\n",
    "print(time.time()-st)"
   ]
  },
  {
   "cell_type": "code",
   "execution_count": 11,
   "metadata": {},
   "outputs": [
    {
     "name": "stdout",
     "output_type": "stream",
     "text": [
      "3 5\n"
     ]
    }
   ],
   "source": [
    "def fib(n):\n",
    "    global zero, one\n",
    "    if n == 0:\n",
    "        zero += 1\n",
    "        return 0\n",
    "    elif n == 1:\n",
    "        one += 1\n",
    "        return 1\n",
    "    else:\n",
    "        return fib(n-1) + fib(n-2)\n",
    "        \n",
    "tc = int(input())\n",
    "for _ in range(tc):\n",
    "    n = int(input())\n",
    "    zero, one = 0, 0\n",
    "    fib(n)\n",
    "    print(zero, one)"
   ]
  },
  {
   "cell_type": "code",
   "execution_count": 12,
   "metadata": {},
   "outputs": [
    {
     "name": "stdout",
     "output_type": "stream",
     "text": [
      "3 5\n"
     ]
    }
   ],
   "source": [
    "tc = int(input())\n",
    "for _ in range(tc):\n",
    "    n = int(input())\n",
    "    fibs = [(1, 0), (0, 1)]\n",
    "    for i in range(2, n+1):\n",
    "        fibs.append((fibs[i-1][0] + fibs[i-2][0], fibs[i-1][1] + fibs[i-2][1]))\n",
    "    print(f'{fibs[n][0]} {fibs[n][1]}')"
   ]
  }
 ],
 "metadata": {
  "interpreter": {
   "hash": "ce29000cb27d48e66893f3f278a495ac0ce86a7861dd75311bfbc559cd9bba05"
  },
  "kernelspec": {
   "display_name": "Python 3.10.4 64-bit",
   "language": "python",
   "name": "python3"
  },
  "language_info": {
   "codemirror_mode": {
    "name": "ipython",
    "version": 3
   },
   "file_extension": ".py",
   "mimetype": "text/x-python",
   "name": "python",
   "nbconvert_exporter": "python",
   "pygments_lexer": "ipython3",
   "version": "3.10.4"
  },
  "orig_nbformat": 4
 },
 "nbformat": 4,
 "nbformat_minor": 2
}
