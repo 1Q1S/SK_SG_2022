{
 "cells": [
  {
   "cell_type": "code",
   "execution_count": 1,
   "metadata": {},
   "outputs": [],
   "source": [
    "# openpyxl 활용\n",
    "from openpyxl import *\n",
    "\n",
    "# 엑셀추가\n",
    "w1 = Workbook()\n",
    "ws = w1.active\n",
    "\n",
    "# 엑셀저장\n",
    "w1.save('test.xlsx')\n",
    "\n",
    "\n"
   ]
  },
  {
   "cell_type": "code",
   "execution_count": 13,
   "metadata": {},
   "outputs": [
    {
     "name": "stdout",
     "output_type": "stream",
     "text": [
      "(<Cell 'Sheet'.A1>, <Cell 'Sheet'.B1>, <Cell 'Sheet'.C1>)\n",
      "1\n",
      "2\n",
      "3\n",
      "(<Cell 'Sheet'.A2>, <Cell 'Sheet'.B2>, <Cell 'Sheet'.C2>)\n",
      "4\n",
      "5\n",
      "6\n",
      "(<Cell 'Sheet'.A3>, <Cell 'Sheet'.B3>, <Cell 'Sheet'.C3>)\n",
      "7\n",
      "8\n",
      "9\n",
      "(<Cell 'Sheet'.A1>, <Cell 'Sheet'.A2>, <Cell 'Sheet'.A3>)\n",
      "1\n",
      "4\n",
      "7\n",
      "(<Cell 'Sheet'.B1>, <Cell 'Sheet'.B2>, <Cell 'Sheet'.B3>)\n",
      "2\n",
      "5\n",
      "8\n",
      "(<Cell 'Sheet'.C1>, <Cell 'Sheet'.C2>, <Cell 'Sheet'.C3>)\n",
      "3\n",
      "6\n",
      "9\n"
     ]
    }
   ],
   "source": [
    "# 엑셀로드\n",
    "w2= load_workbook('test.xlsx')\n",
    "ws2=w2.active\n",
    "\n",
    "#셀을 선택해서 편집하는 방법\n",
    "ws2['A1'] = 'hello'\n",
    "ws2['D3'] = 'hahaha'\n",
    "\n",
    "# 원하는 만큼 엑셀편집 \n",
    "n=1\n",
    "\n",
    "for row in ws2[\"A1\":\"C3\"]:\n",
    "    \n",
    "    for cell in row:\n",
    "        cell.value=n\n",
    "        n+=1\n",
    "\n",
    "w2.save('test.xlsx')\n",
    "\n",
    "for row in ws2.iter_rows(min_row=1, min_col=1, max_col=3, max_row=3):\n",
    "    print(row)\n",
    "    for cell in row:\n",
    "        print(cell.value)\n",
    "\n",
    "for row in ws2.iter_cols(min_row=1, min_col=1, max_col=3, max_row=3):\n",
    "    print(row)\n",
    "    for cell in row:\n",
    "        print(cell.value)\n"
   ]
  },
  {
   "cell_type": "code",
   "execution_count": 16,
   "metadata": {},
   "outputs": [],
   "source": [
    "# 신규 엑셀 시트 생성\n",
    "w2= load_workbook('test.xlsx')\n",
    "ws2=w2.active\n",
    "\n",
    "wsnew= w2.create_sheet()\n",
    "wsnew.title='1번시트'\n",
    "wsnew= w2.create_sheet(\"0번시트\",0) # 시트이름, 시트위치(index)\n",
    "w2.save('test.xlsx')\n"
   ]
  },
  {
   "cell_type": "code",
   "execution_count": 29,
   "metadata": {},
   "outputs": [],
   "source": [
    "from openpyxl import *\n",
    "\n",
    "'''\n",
    "1. 딕셔너리 만들기\n",
    "2. 딕셔너리가 들어있는 리스트 만들기\n",
    "3. 엑셀 파일 생성\n",
    "4. 헤더 만들기\n",
    "5. 데이터 삽입\n",
    "'''\n",
    "\n",
    "\n",
    "\n",
    "fru_excel_file= Workbook()\n",
    "fru_excel_file.active\n",
    "fru_excel_sheet=fru_excel_file.create_sheet('물품구매내역',0)\n",
    "\n",
    "title_list=['품목', '가격', '수량', '날짜']\n",
    "fru_price={\"바나나\":5000, \"커피\":3000,\"책\":15000,\"팬\":2000}\n",
    "fru_amount={\"바나나\":1, \"커피\":2,\"책\":1,\"팬\":4}\n",
    "fru_date={\"바나나\":\"2022년3월24일\", \"커피\":\"2022년3월25일\",\"책\":\"2022년3월26일\",\"팬\":\"2022년3월27일\"}\n",
    "fru_list=[fru_price,fru_amount,fru_date]\n",
    "fruit=[\"바나나\", \"커피\",\"책\",\"팬\"]\n",
    "n=0\n",
    "d=0\n",
    "\n",
    "for row in fru_excel_sheet.iter_rows(min_row=1,min_col=1,max_row=1,max_col=len(title_list)):\n",
    "    for cell in row:\n",
    "        cell.value=title_list[n]\n",
    "        n+=1\n",
    "n=0\n",
    "j=0\n",
    "for row in fru_excel_sheet.iter_rows(min_row=2,min_col=1,max_row=(len(fru_date)+1),max_col=(len(fru_list)+1)):\n",
    "    \n",
    "    for cell in row:\n",
    "        if n==0:\n",
    "            cell.value = fruit[j]\n",
    "        else:\n",
    "            cell.value = fru_list[n-1][fruit[d]]\n",
    "        n+=1\n",
    "    n=0\n",
    "    d+=1\n",
    "    j+=1\n",
    "fru_excel_file.save('fruit.xlsx')\n"
   ]
  },
  {
   "cell_type": "code",
   "execution_count": 21,
   "metadata": {},
   "outputs": [
    {
     "name": "stdout",
     "output_type": "stream",
     "text": [
      "4\n"
     ]
    }
   ],
   "source": [
    "# import time\n",
    "# time.sleep() - ()에는 초가 들어감 . 프로그램 대기(홀딩) 시간 강제로 만듬\n"
   ]
  },
  {
   "cell_type": "code",
   "execution_count": null,
   "metadata": {},
   "outputs": [],
   "source": []
  }
 ],
 "metadata": {
  "interpreter": {
   "hash": "0ef2662b2d123e7c06080618e4203543cfdddda4267359755803fd8e38324e19"
  },
  "kernelspec": {
   "display_name": "Python 3.10.2 64-bit",
   "language": "python",
   "name": "python3"
  },
  "language_info": {
   "codemirror_mode": {
    "name": "ipython",
    "version": 3
   },
   "file_extension": ".py",
   "mimetype": "text/x-python",
   "name": "python",
   "nbconvert_exporter": "python",
   "pygments_lexer": "ipython3",
   "version": "3.10.2"
  },
  "orig_nbformat": 4
 },
 "nbformat": 4,
 "nbformat_minor": 2
}
