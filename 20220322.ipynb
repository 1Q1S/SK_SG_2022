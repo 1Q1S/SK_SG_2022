{
 "cells": [
  {
   "cell_type": "code",
   "execution_count": 1,
   "metadata": {},
   "outputs": [
    {
     "data": {
      "text/plain": [
       "'모듈에 있는 첫번째 함수 입니다.'"
      ]
     },
     "execution_count": 1,
     "metadata": {},
     "output_type": "execute_result"
    }
   ],
   "source": [
    "import ex1\n",
    "ex1.func1()"
   ]
  },
  {
   "cell_type": "code",
   "execution_count": 3,
   "metadata": {},
   "outputs": [
    {
     "data": {
      "text/plain": [
       "'모듈의 첫번째 합수입니다.'"
      ]
     },
     "execution_count": 3,
     "metadata": {},
     "output_type": "execute_result"
    }
   ],
   "source": [
    "import ex2\n",
    "\n",
    "ex2.func1()\n"
   ]
  },
  {
   "cell_type": "code",
   "execution_count": 4,
   "metadata": {},
   "outputs": [
    {
     "name": "stdout",
     "output_type": "stream",
     "text": [
      "['c:\\\\pythonproject', 'C:\\\\Users\\\\dl233\\\\AppData\\\\Local\\\\Programs\\\\Python\\\\Python310\\\\python310.zip', 'C:\\\\Users\\\\dl233\\\\AppData\\\\Local\\\\Programs\\\\Python\\\\Python310\\\\DLLs', 'C:\\\\Users\\\\dl233\\\\AppData\\\\Local\\\\Programs\\\\Python\\\\Python310\\\\lib', 'C:\\\\Users\\\\dl233\\\\AppData\\\\Local\\\\Programs\\\\Python\\\\Python310', '', 'C:\\\\Users\\\\dl233\\\\AppData\\\\Roaming\\\\Python\\\\Python310\\\\site-packages', 'C:\\\\Users\\\\dl233\\\\AppData\\\\Roaming\\\\Python\\\\Python310\\\\site-packages\\\\win32', 'C:\\\\Users\\\\dl233\\\\AppData\\\\Roaming\\\\Python\\\\Python310\\\\site-packages\\\\win32\\\\lib', 'C:\\\\Users\\\\dl233\\\\AppData\\\\Roaming\\\\Python\\\\Python310\\\\site-packages\\\\Pythonwin', 'C:\\\\Users\\\\dl233\\\\AppData\\\\Local\\\\Programs\\\\Python\\\\Python310\\\\lib\\\\site-packages']\n"
     ]
    }
   ],
   "source": [
    "#경로를 추가하는 작업을 수행할 때 sys 모듈을 사용\n",
    "import sys\n",
    "\n",
    "print(sys.path)\n",
    "sys.path.append"
   ]
  },
  {
   "cell_type": "code",
   "execution_count": 5,
   "metadata": {},
   "outputs": [
    {
     "name": "stdout",
     "output_type": "stream",
     "text": [
      "모듈의 첫번째 합수입니다.\n",
      "모듈의 두번째 합수입니다.\n",
      "모듈의 세번째 합수입니다.\n"
     ]
    }
   ],
   "source": [
    "import ex2\n",
    "\n",
    "print(ex2.func1())\n",
    "print(ex2.func2())\n",
    "print(ex2.func3())\n"
   ]
  },
  {
   "cell_type": "code",
   "execution_count": 7,
   "metadata": {},
   "outputs": [
    {
     "name": "stdout",
     "output_type": "stream",
     "text": [
      "모듈의 두번째 합수입니다.\n",
      "모듈의 세번째 합수입니다.\n"
     ]
    }
   ],
   "source": [
    "from ex2 import func2,func3\n",
    "\n",
    "print(func2())\n",
    "print(func3())"
   ]
  },
  {
   "cell_type": "code",
   "execution_count": 10,
   "metadata": {},
   "outputs": [
    {
     "name": "stdout",
     "output_type": "stream",
     "text": [
      "c:\\pythonproject\n"
     ]
    }
   ],
   "source": [
    "import os \n",
    "# 현재 디렉토리\n",
    "print(os.getcwd())\n",
    "# 디렉토리 만들기 (경로의 제일 마지막에 있는 폴더만 생성)\n",
    "# 같은 경로에 같은 이름의 폴더가 있으면 에러 생성\n",
    "os.mkdir('C:\\pythonproject\\pytemp')\n",
    "# 디렉토리 만들기 (경로에 해당하는 하휘폴더를 전부 생성)\n",
    "# 최종 경로에 같은 이름의 폴더가 있으면 에러 생성\n",
    "os.makedirs('C:\\pythonproject\\pytemp2\\py2\\py1')"
   ]
  },
  {
   "cell_type": "code",
   "execution_count": 11,
   "metadata": {},
   "outputs": [
    {
     "name": "stdout",
     "output_type": "stream",
     "text": [
      "C:\\pythonproject\\pytemp\n"
     ]
    }
   ],
   "source": [
    "# 경로를 이동하고 싶을 때,\n",
    "os.chdir('C:\\pythonproject\\pytemp')\n",
    "print(os.getcwd())"
   ]
  },
  {
   "cell_type": "code",
   "execution_count": 16,
   "metadata": {},
   "outputs": [
    {
     "name": "stdout",
     "output_type": "stream",
     "text": [
      "C:\\pythonproject\n"
     ]
    }
   ],
   "source": [
    "os.chdir('C:\\pythonproject')\n",
    "print(os.getcwd())"
   ]
  },
  {
   "cell_type": "code",
   "execution_count": 17,
   "metadata": {},
   "outputs": [
    {
     "name": "stdout",
     "output_type": "stream",
     "text": [
      "['.git', '20220322.ipynb', 'ex2.py', 'pytemp', 'pytemp2', 'TEST.ipynb', '__pycache__']\n"
     ]
    }
   ],
   "source": [
    "# 폴더안의 하위 폴더 및 파일 목록을 보여줌\n",
    "\n",
    "print(os.listdir('C:\\pythonproject'))"
   ]
  },
  {
   "cell_type": "code",
   "execution_count": 18,
   "metadata": {},
   "outputs": [
    {
     "name": "stdout",
     "output_type": "stream",
     "text": [
      ".git\n",
      "20220322.ipynb\n",
      "ex2.py\n",
      "pytemp\n",
      "pytemp2\n",
      "TEST.ipynb\n",
      "__pycache__\n"
     ]
    }
   ],
   "source": [
    "for i in os.listdir('C:\\pythonproject'):\n",
    "    print(i)"
   ]
  },
  {
   "cell_type": "code",
   "execution_count": 22,
   "metadata": {},
   "outputs": [
    {
     "name": "stdout",
     "output_type": "stream",
     "text": [
      "True\n",
      "False\n",
      "True\n"
     ]
    }
   ],
   "source": [
    "#폴더가 있는지 확인\n",
    "print(os.path.exists('C:\\pythonproject'))\n",
    "print(os.path.exists('C:\\pythonproject\\py2'))\n",
    "print(os.path.exists('C:\\pythonproject\\pytemp'))"
   ]
  },
  {
   "cell_type": "code",
   "execution_count": 23,
   "metadata": {},
   "outputs": [],
   "source": [
    "# 폴더를 삭제하는 함수 \n",
    "# rmdir() : 폴더 디렉토리 삭제 (마지막 경로의 폴더만 삭제)\n",
    "# removedirs() : 폴더 디렉토리 삭제 (작성한 경로를 전체 삭제함.)\n",
    "# 두 함수를 사용하기 위해서는 삭제 대상 폴더가 비워져있어야 한다.\n",
    "os.rmdir('C:\\pythonproject\\pytemp2\\py2\\py1')"
   ]
  },
  {
   "cell_type": "code",
   "execution_count": 28,
   "metadata": {},
   "outputs": [],
   "source": [
    "os.makedirs('C:\\pytest3\\pytemp2\\py2\\py1')"
   ]
  },
  {
   "cell_type": "code",
   "execution_count": 29,
   "metadata": {},
   "outputs": [],
   "source": [
    "os.removedirs('C:\\pytest3\\pytemp2\\py2\\py1')"
   ]
  },
  {
   "cell_type": "code",
   "execution_count": 30,
   "metadata": {},
   "outputs": [
    {
     "data": {
      "text/plain": [
       "'\\nt 텍스트 모드\\nb 바이너리\\nr 읽기(기본)\\nw 쓰기 \\na 이어쓰기\\n+ 읽기쓰기\\n'"
      ]
     },
     "execution_count": 30,
     "metadata": {},
     "output_type": "execute_result"
    }
   ],
   "source": [
    "'''\n",
    "t 텍스트 모드\n",
    "b 바이너리\n",
    "r 읽기(기본)\n",
    "w 쓰기 \n",
    "a 이어쓰기\n",
    "+ 읽기쓰기\n",
    "'''"
   ]
  },
  {
   "cell_type": "code",
   "execution_count": 31,
   "metadata": {},
   "outputs": [],
   "source": [
    "file1=open('text1.txt','wt') # w는 무조건 내용이 덮어씀.\n",
    "file1.write('Hello')\n",
    "file1.close()"
   ]
  },
  {
   "cell_type": "code",
   "execution_count": 35,
   "metadata": {},
   "outputs": [],
   "source": [
    "file2=open('text1.txt','a')\n",
    "file2.write('\\n Bye')\n",
    "file2.close()"
   ]
  },
  {
   "cell_type": "code",
   "execution_count": 40,
   "metadata": {},
   "outputs": [
    {
     "name": "stdout",
     "output_type": "stream",
     "text": [
      "['HelloBye/n Bye\\n', ' Bye']\n"
     ]
    }
   ],
   "source": [
    "file3=open('text1.txt','rt')\n",
    "print(file3.readlines())\n",
    "\n",
    "file3.close()"
   ]
  },
  {
   "cell_type": "code",
   "execution_count": 41,
   "metadata": {},
   "outputs": [
    {
     "name": "stdout",
     "output_type": "stream",
     "text": [
      "HelloBye/n Bye\n",
      " Bye\n"
     ]
    }
   ],
   "source": [
    "file3=open('text1.txt','rt')\n",
    "print(file3.read())\n",
    "file3.close()"
   ]
  },
  {
   "cell_type": "code",
   "execution_count": 42,
   "metadata": {},
   "outputs": [
    {
     "name": "stdout",
     "output_type": "stream",
     "text": [
      "HelloBye/n Bye\n",
      "\n"
     ]
    }
   ],
   "source": [
    "file3=open('text1.txt','rt')\n",
    "print(file3.readline())\n",
    "file3.close()"
   ]
  },
  {
   "cell_type": "code",
   "execution_count": 14,
   "metadata": {},
   "outputs": [],
   "source": [
    "# 파일 5개를 반복문을 이용해 생성 (text2.txt 파일 포함)\n",
    "\n",
    "for i in range (2,6):\n",
    "    file1 = open('text%d.txt'%i, 'wt')\n",
    "    file1.close()\n",
    " "
   ]
  },
  {
   "cell_type": "code",
   "execution_count": 15,
   "metadata": {},
   "outputs": [],
   "source": [
    "# text2.txt에 hllow world 쓰기 \n",
    "file2= open('text2.txt','wt')\n",
    "file2.write('hello world')\n",
    "file2.close()\n"
   ]
  },
  {
   "cell_type": "code",
   "execution_count": 17,
   "metadata": {},
   "outputs": [],
   "source": [
    "# 반복문을 이용해 생선한 text3.txt 파일에 줄바꿈을 적용하여 아래 문구 작성\n",
    "file3 = open('text3.txt','wt', encoding='utf-8')\n",
    "file3.write('안녕하세요. \\n저는 홍길동입니다. \\n잘부탁 드립니다. ')\n",
    "file3.close()"
   ]
  },
  {
   "cell_type": "code",
   "execution_count": 18,
   "metadata": {},
   "outputs": [],
   "source": [
    "# List를 만들어서 List에 있는 내용을 Text4.txt에 저장 (한 줄씩 입력)\n",
    "# List ['사과','배','바나나','딸기'] \n",
    "\n",
    "fu_list=['사과','배','바나나','딸기'] \n",
    "file4 = open('text4.txt','wt',encoding='utf-8')\n",
    "for i in fu_list:\n",
    "    file4.write('%s \\n'%i)\n",
    "\n",
    "file4.close()\n"
   ]
  },
  {
   "cell_type": "code",
   "execution_count": 19,
   "metadata": {},
   "outputs": [
    {
     "name": "stdout",
     "output_type": "stream",
     "text": [
      "버림하기 전 값: 1.666667\n",
      "버림하기 후 값: 1.000000\n"
     ]
    }
   ],
   "source": [
    "# math : 수학 계산 관련 라이브러리\n",
    "# trunc () : 버림 함수\n",
    "\n",
    "import math\n",
    "\n",
    "n1=3\n",
    "n2=5\n",
    "\n",
    "print('버림하기 전 값: %f'%(n2/n1))\n",
    "print('버림하기 후 값: %f'%(math.trunc(n2/n1)))\n",
    "\n"
   ]
  },
  {
   "cell_type": "code",
   "execution_count": 21,
   "metadata": {},
   "outputs": [
    {
     "name": "stdout",
     "output_type": "stream",
     "text": [
      "ceil(n1): 3\n",
      "ceil(n2): 6\n"
     ]
    }
   ],
   "source": [
    "# ceil() : 주어진 값 이상의 가장 작은 정수값 리턴\n",
    "import math\n",
    "\n",
    "n1=3\n",
    "n2=5.22\n",
    "\n",
    "print('ceil(n1): %d'%(math.ceil(n1)))\n",
    "print('ceil(n2): %d'%(math.ceil(n2)))"
   ]
  },
  {
   "cell_type": "code",
   "execution_count": 22,
   "metadata": {},
   "outputs": [
    {
     "name": "stdout",
     "output_type": "stream",
     "text": [
      "ceil(n1): 3\n",
      "ceil(n2): 5\n"
     ]
    }
   ],
   "source": [
    "# floor() 주어진 숫자 이하의 가장 큰 정수값 리턴\n",
    "import math\n",
    "\n",
    "n1=3\n",
    "n2=5.22\n",
    "\n",
    "print('ceil(n1): %d'%(math.floor(n1)))\n",
    "print('ceil(n2): %d'%(math.floor(n2)))"
   ]
  },
  {
   "cell_type": "code",
   "execution_count": null,
   "metadata": {},
   "outputs": [],
   "source": []
  }
 ],
 "metadata": {
  "interpreter": {
   "hash": "0ef2662b2d123e7c06080618e4203543cfdddda4267359755803fd8e38324e19"
  },
  "kernelspec": {
   "display_name": "Python 3.10.2 64-bit",
   "language": "python",
   "name": "python3"
  },
  "language_info": {
   "codemirror_mode": {
    "name": "ipython",
    "version": 3
   },
   "file_extension": ".py",
   "mimetype": "text/x-python",
   "name": "python",
   "nbconvert_exporter": "python",
   "pygments_lexer": "ipython3",
   "version": "3.10.2"
  },
  "orig_nbformat": 4
 },
 "nbformat": 4,
 "nbformat_minor": 2
}
